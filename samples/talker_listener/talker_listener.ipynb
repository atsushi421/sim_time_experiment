{
 "cells": [
  {
   "cell_type": "code",
   "execution_count": 1,
   "source": [
    "# This is a sample script to analyze the results of measuring talker_listener.\n",
    "# Please build the caret_analyze package before using it.\n",
    "# The source code used for the measurement can be found here:\n",
    "# https://github.com/tier4/CARET_demos"
   ],
   "outputs": [],
   "metadata": {}
  },
  {
   "cell_type": "code",
   "execution_count": 2,
   "source": [
    "import os\n",
    "import sys\n",
    "\n",
    "home = os.path.expanduser('~')\n",
    "sys.path.append(home + '/ros2_caret_ws/build/caret_analyze')\n",
    "sys.path.append(home + '/ros2_caret_ws/install/caret_analyze_cpp_impl/lib/python3.8/site-packages')\n",
    "# or execute soruce command before running jupyter.\n",
    "# source ~/ros2_caret_ws/install/local_setup.bash"
   ],
   "outputs": [],
   "metadata": {}
  },
  {
   "cell_type": "code",
   "execution_count": 3,
   "source": [
    "import matplotlib.pyplot as plt\n",
    "import pandas as pd\n",
    "import numpy as np"
   ],
   "outputs": [],
   "metadata": {}
  },
  {
   "cell_type": "code",
   "execution_count": 4,
   "source": [
    "import caret_analyze as caret\n",
    "import caret_analyze.plot as caret_plot"
   ],
   "outputs": [
    {
     "output_type": "stream",
     "name": "stdout",
     "text": [
      "Succeed to find record_cpp_impl. the C++ version will be used.\n"
     ]
    }
   ],
   "metadata": {}
  },
  {
   "cell_type": "code",
   "execution_count": 5,
   "source": [
    "from bokeh.plotting import output_notebook\n",
    "output_notebook()"
   ],
   "outputs": [
    {
     "output_type": "display_data",
     "data": {
      "text/html": [
       "\n",
       "    <div class=\"bk-root\">\n",
       "        <a href=\"https://bokeh.org\" target=\"_blank\" class=\"bk-logo bk-logo-small bk-logo-notebook\"></a>\n",
       "        <span id=\"1002\">Loading BokehJS ...</span>\n",
       "    </div>"
      ]
     },
     "metadata": {}
    },
    {
     "output_type": "display_data",
     "data": {
      "application/vnd.bokehjs_load.v0+json": "",
      "application/javascript": "\n(function(root) {\n  function now() {\n    return new Date();\n  }\n\n  var force = true;\n\n  if (typeof root._bokeh_onload_callbacks === \"undefined\" || force === true) {\n    root._bokeh_onload_callbacks = [];\n    root._bokeh_is_loading = undefined;\n  }\n\n  var JS_MIME_TYPE = 'application/javascript';\n  var HTML_MIME_TYPE = 'text/html';\n  var EXEC_MIME_TYPE = 'application/vnd.bokehjs_exec.v0+json';\n  var CLASS_NAME = 'output_bokeh rendered_html';\n\n  /**\n   * Render data to the DOM node\n   */\n  function render(props, node) {\n    var script = document.createElement(\"script\");\n    node.appendChild(script);\n  }\n\n  /**\n   * Handle when an output is cleared or removed\n   */\n  function handleClearOutput(event, handle) {\n    var cell = handle.cell;\n\n    var id = cell.output_area._bokeh_element_id;\n    var server_id = cell.output_area._bokeh_server_id;\n    // Clean up Bokeh references\n    if (id != null && id in Bokeh.index) {\n      Bokeh.index[id].model.document.clear();\n      delete Bokeh.index[id];\n    }\n\n    if (server_id !== undefined) {\n      // Clean up Bokeh references\n      var cmd = \"from bokeh.io.state import curstate; print(curstate().uuid_to_server['\" + server_id + \"'].get_sessions()[0].document.roots[0]._id)\";\n      cell.notebook.kernel.execute(cmd, {\n        iopub: {\n          output: function(msg) {\n            var id = msg.content.text.trim();\n            if (id in Bokeh.index) {\n              Bokeh.index[id].model.document.clear();\n              delete Bokeh.index[id];\n            }\n          }\n        }\n      });\n      // Destroy server and session\n      var cmd = \"import bokeh.io.notebook as ion; ion.destroy_server('\" + server_id + \"')\";\n      cell.notebook.kernel.execute(cmd);\n    }\n  }\n\n  /**\n   * Handle when a new output is added\n   */\n  function handleAddOutput(event, handle) {\n    var output_area = handle.output_area;\n    var output = handle.output;\n\n    // limit handleAddOutput to display_data with EXEC_MIME_TYPE content only\n    if ((output.output_type != \"display_data\") || (!Object.prototype.hasOwnProperty.call(output.data, EXEC_MIME_TYPE))) {\n      return\n    }\n\n    var toinsert = output_area.element.find(\".\" + CLASS_NAME.split(' ')[0]);\n\n    if (output.metadata[EXEC_MIME_TYPE][\"id\"] !== undefined) {\n      toinsert[toinsert.length - 1].firstChild.textContent = output.data[JS_MIME_TYPE];\n      // store reference to embed id on output_area\n      output_area._bokeh_element_id = output.metadata[EXEC_MIME_TYPE][\"id\"];\n    }\n    if (output.metadata[EXEC_MIME_TYPE][\"server_id\"] !== undefined) {\n      var bk_div = document.createElement(\"div\");\n      bk_div.innerHTML = output.data[HTML_MIME_TYPE];\n      var script_attrs = bk_div.children[0].attributes;\n      for (var i = 0; i < script_attrs.length; i++) {\n        toinsert[toinsert.length - 1].firstChild.setAttribute(script_attrs[i].name, script_attrs[i].value);\n        toinsert[toinsert.length - 1].firstChild.textContent = bk_div.children[0].textContent\n      }\n      // store reference to server id on output_area\n      output_area._bokeh_server_id = output.metadata[EXEC_MIME_TYPE][\"server_id\"];\n    }\n  }\n\n  function register_renderer(events, OutputArea) {\n\n    function append_mime(data, metadata, element) {\n      // create a DOM node to render to\n      var toinsert = this.create_output_subarea(\n        metadata,\n        CLASS_NAME,\n        EXEC_MIME_TYPE\n      );\n      this.keyboard_manager.register_events(toinsert);\n      // Render to node\n      var props = {data: data, metadata: metadata[EXEC_MIME_TYPE]};\n      render(props, toinsert[toinsert.length - 1]);\n      element.append(toinsert);\n      return toinsert\n    }\n\n    /* Handle when an output is cleared or removed */\n    events.on('clear_output.CodeCell', handleClearOutput);\n    events.on('delete.Cell', handleClearOutput);\n\n    /* Handle when a new output is added */\n    events.on('output_added.OutputArea', handleAddOutput);\n\n    /**\n     * Register the mime type and append_mime function with output_area\n     */\n    OutputArea.prototype.register_mime_type(EXEC_MIME_TYPE, append_mime, {\n      /* Is output safe? */\n      safe: true,\n      /* Index of renderer in `output_area.display_order` */\n      index: 0\n    });\n  }\n\n  // register the mime type if in Jupyter Notebook environment and previously unregistered\n  if (root.Jupyter !== undefined) {\n    var events = require('base/js/events');\n    var OutputArea = require('notebook/js/outputarea').OutputArea;\n\n    if (OutputArea.prototype.mime_types().indexOf(EXEC_MIME_TYPE) == -1) {\n      register_renderer(events, OutputArea);\n    }\n  }\n\n  \n  if (typeof (root._bokeh_timeout) === \"undefined\" || force === true) {\n    root._bokeh_timeout = Date.now() + 5000;\n    root._bokeh_failed_load = false;\n  }\n\n  var NB_LOAD_WARNING = {'data': {'text/html':\n     \"<div style='background-color: #fdd'>\\n\"+\n     \"<p>\\n\"+\n     \"BokehJS does not appear to have successfully loaded. If loading BokehJS from CDN, this \\n\"+\n     \"may be due to a slow or bad network connection. Possible fixes:\\n\"+\n     \"</p>\\n\"+\n     \"<ul>\\n\"+\n     \"<li>re-rerun `output_notebook()` to attempt to load from CDN again, or</li>\\n\"+\n     \"<li>use INLINE resources instead, as so:</li>\\n\"+\n     \"</ul>\\n\"+\n     \"<code>\\n\"+\n     \"from bokeh.resources import INLINE\\n\"+\n     \"output_notebook(resources=INLINE)\\n\"+\n     \"</code>\\n\"+\n     \"</div>\"}};\n\n  function display_loaded() {\n    var el = document.getElementById(\"1002\");\n    if (el != null) {\n      el.textContent = \"BokehJS is loading...\";\n    }\n    if (root.Bokeh !== undefined) {\n      if (el != null) {\n        el.textContent = \"BokehJS \" + root.Bokeh.version + \" successfully loaded.\";\n      }\n    } else if (Date.now() < root._bokeh_timeout) {\n      setTimeout(display_loaded, 100)\n    }\n  }\n\n\n  function run_callbacks() {\n    try {\n      root._bokeh_onload_callbacks.forEach(function(callback) {\n        if (callback != null)\n          callback();\n      });\n    } finally {\n      delete root._bokeh_onload_callbacks\n    }\n    console.debug(\"Bokeh: all callbacks have finished\");\n  }\n\n  function load_libs(css_urls, js_urls, callback) {\n    if (css_urls == null) css_urls = [];\n    if (js_urls == null) js_urls = [];\n\n    root._bokeh_onload_callbacks.push(callback);\n    if (root._bokeh_is_loading > 0) {\n      console.debug(\"Bokeh: BokehJS is being loaded, scheduling callback at\", now());\n      return null;\n    }\n    if (js_urls == null || js_urls.length === 0) {\n      run_callbacks();\n      return null;\n    }\n    console.debug(\"Bokeh: BokehJS not loaded, scheduling load and callback at\", now());\n    root._bokeh_is_loading = css_urls.length + js_urls.length;\n\n    function on_load() {\n      root._bokeh_is_loading--;\n      if (root._bokeh_is_loading === 0) {\n        console.debug(\"Bokeh: all BokehJS libraries/stylesheets loaded\");\n        run_callbacks()\n      }\n    }\n\n    function on_error(url) {\n      console.error(\"failed to load \" + url);\n    }\n\n    for (let i = 0; i < css_urls.length; i++) {\n      const url = css_urls[i];\n      const element = document.createElement(\"link\");\n      element.onload = on_load;\n      element.onerror = on_error.bind(null, url);\n      element.rel = \"stylesheet\";\n      element.type = \"text/css\";\n      element.href = url;\n      console.debug(\"Bokeh: injecting link tag for BokehJS stylesheet: \", url);\n      document.body.appendChild(element);\n    }\n\n    const hashes = {\"https://cdn.bokeh.org/bokeh/release/bokeh-2.3.3.min.js\": \"dM3QQsP+wXdHg42wTqW85BjZQdLNNIXqlPw/BgKoExPmTG7ZLML4EGqLMfqHT6ON\", \"https://cdn.bokeh.org/bokeh/release/bokeh-tables-2.3.3.min.js\": \"8x57I4YuIfu8XyZfFo0XVr2WAT8EK4rh/uDe3wF7YuW2FNUSNEpJbsPaB1nJ2fz2\", \"https://cdn.bokeh.org/bokeh/release/bokeh-widgets-2.3.3.min.js\": \"3QTqdz9LyAm2i0sG5XTePsHec3UHWwVsrOL68SYRoAXsafvfAyqtQ+h440+qIBhS\"};\n\n    for (let i = 0; i < js_urls.length; i++) {\n      const url = js_urls[i];\n      const element = document.createElement('script');\n      element.onload = on_load;\n      element.onerror = on_error.bind(null, url);\n      element.async = false;\n      element.src = url;\n      if (url in hashes) {\n        element.crossOrigin = \"anonymous\";\n        element.integrity = \"sha384-\" + hashes[url];\n      }\n      console.debug(\"Bokeh: injecting script tag for BokehJS library: \", url);\n      document.head.appendChild(element);\n    }\n  };\n\n  function inject_raw_css(css) {\n    const element = document.createElement(\"style\");\n    element.appendChild(document.createTextNode(css));\n    document.body.appendChild(element);\n  }\n\n  \n  var js_urls = [\"https://cdn.bokeh.org/bokeh/release/bokeh-2.3.3.min.js\", \"https://cdn.bokeh.org/bokeh/release/bokeh-widgets-2.3.3.min.js\", \"https://cdn.bokeh.org/bokeh/release/bokeh-tables-2.3.3.min.js\"];\n  var css_urls = [];\n  \n\n  var inline_js = [\n    function(Bokeh) {\n      Bokeh.set_log_level(\"info\");\n    },\n    function(Bokeh) {\n    \n    \n    }\n  ];\n\n  function run_inline_js() {\n    \n    if (root.Bokeh !== undefined || force === true) {\n      \n    for (var i = 0; i < inline_js.length; i++) {\n      inline_js[i].call(root, root.Bokeh);\n    }\n    if (force === true) {\n        display_loaded();\n      }} else if (Date.now() < root._bokeh_timeout) {\n      setTimeout(run_inline_js, 100);\n    } else if (!root._bokeh_failed_load) {\n      console.log(\"Bokeh: BokehJS failed to load within specified timeout.\");\n      root._bokeh_failed_load = true;\n    } else if (force !== true) {\n      var cell = $(document.getElementById(\"1002\")).parents('.cell').data().cell;\n      cell.output_area.append_execute_result(NB_LOAD_WARNING)\n    }\n\n  }\n\n  if (root._bokeh_is_loading === 0) {\n    console.debug(\"Bokeh: BokehJS loaded, going straight to plotting\");\n    run_inline_js();\n  } else {\n    load_libs(css_urls, js_urls, function() {\n      console.debug(\"Bokeh: BokehJS plotting callback run at\", now());\n      run_inline_js();\n    });\n  }\n}(window));"
     },
     "metadata": {}
    }
   ],
   "metadata": {}
  },
  {
   "cell_type": "code",
   "execution_count": 6,
   "source": [
    "trace_dir_path = './sample_result/'\n",
    "lttng = caret.Lttng(trace_dir_path, force_conversion=True)"
   ],
   "outputs": [
    {
     "output_type": "stream",
     "name": "stdout",
     "text": [
      "found converted file but will re-create it: ./sample_result/converted\n",
      "converting trace directory: ./sample_result\n",
      "converted 304 events in 19 ms\n",
      "output written to: ./sample_result/converted\n",
      " [100%] [Ros2Handler]\n"
     ]
    }
   ],
   "metadata": {}
  },
  {
   "cell_type": "code",
   "execution_count": 7,
   "source": [
    "arch = caret.Architecture()\n",
    "architecture_path = './architecture.yaml'\n",
    "arch.import_file(file_path = architecture_path, file_type='yaml', latency_composer=lttng)"
   ],
   "outputs": [],
   "metadata": {}
  },
  {
   "cell_type": "code",
   "execution_count": 8,
   "source": [
    "app = caret.Application(arch)"
   ],
   "outputs": [],
   "metadata": {}
  },
  {
   "cell_type": "code",
   "execution_count": 9,
   "source": [
    "node = app.nodes[0]\n",
    "print('node_name: ' + node.node_name)\n",
    "\n",
    "callback = node.callbacks[0]\n",
    "print('callback_type: ' + callback.TYPE_NAME)\n",
    "print('subscription topic name :' + callback.topic_name)\n",
    "print('callback_name: ' + callback.callback_name)\n",
    "print('callback symbol: ' + callback.symbol)\n",
    "print('callback unique name: ' + callback.unique_name)"
   ],
   "outputs": [
    {
     "output_type": "stream",
     "name": "stdout",
     "text": [
      "node_name: /listener\n",
      "callback_type: subscription_callback\n",
      "subscription topic name :/chatter\n",
      "callback_name: subscription_callback_0\n",
      "callback symbol: demo_nodes_cpp::Listener::Listener(rclcpp::NodeOptionsconst&)::{lambda(std::shared_ptr<std_msgs::msg::String>)#1}\n",
      "callback unique name: /listener/subscription_callback_0\n"
     ]
    }
   ],
   "metadata": {}
  },
  {
   "cell_type": "code",
   "execution_count": 10,
   "source": [
    "start_callback_unique_name = app.callbacks[1].unique_name\n",
    "end_callback_unique_name = app.callbacks[0].unique_name\n",
    "print('path search')\n",
    "print('start_callback: ' + start_callback_unique_name)\n",
    "print('end_callback: ' + end_callback_unique_name)"
   ],
   "outputs": [
    {
     "output_type": "stream",
     "name": "stdout",
     "text": [
      "path search\n",
      "start_callback: /talker/timer_callback_0\n",
      "end_callback: /listener/subscription_callback_0\n"
     ]
    }
   ],
   "metadata": {}
  },
  {
   "cell_type": "code",
   "execution_count": 11,
   "source": [
    "paths = app.search_paths(start_callback_unique_name, end_callback_unique_name)"
   ],
   "outputs": [],
   "metadata": {}
  },
  {
   "cell_type": "code",
   "execution_count": 12,
   "source": [
    "path = paths[0]"
   ],
   "outputs": [],
   "metadata": {}
  },
  {
   "cell_type": "code",
   "execution_count": 13,
   "source": [
    "t, latency = path.to_timeseries()\n",
    "plt.plot(t, latency)"
   ],
   "outputs": [
    {
     "output_type": "execute_result",
     "data": {
      "text/plain": [
       "[<matplotlib.lines.Line2D at 0x7fe57ad9fb50>]"
      ]
     },
     "metadata": {},
     "execution_count": 13
    },
    {
     "output_type": "display_data",
     "data": {
      "image/png": "[encoded data removed]",
      "text/plain": [
       "<Figure size 432x288 with 1 Axes>"
      ]
     },
     "metadata": {
      "needs_background": "light"
     }
    }
   ],
   "metadata": {}
  },
  {
   "cell_type": "code",
   "execution_count": 14,
   "source": [
    "histogram, bins = path.to_histogram(binsize_ns=100000)\n",
    "plt.step(bins[:-1], histogram, where='post')"
   ],
   "outputs": [
    {
     "output_type": "execute_result",
     "data": {
      "text/plain": [
       "[<matplotlib.lines.Line2D at 0x7fe57ad2fc10>]"
      ]
     },
     "metadata": {},
     "execution_count": 14
    },
    {
     "output_type": "display_data",
     "data": {
      "image/png": "[encoded data removed]",
      "text/plain": [
       "<Figure size 432x288 with 1 Axes>"
      ]
     },
     "metadata": {
      "needs_background": "light"
     }
    }
   ],
   "metadata": {}
  },
  {
   "cell_type": "code",
   "execution_count": 15,
   "source": [
    "df = path.to_dataframe()\n",
    "df"
   ],
   "outputs": [
    {
     "output_type": "execute_result",
     "data": {
      "text/html": [
       "<div>\n",
       "<style scoped>\n",
       "    .dataframe tbody tr th:only-of-type {\n",
       "        vertical-align: middle;\n",
       "    }\n",
       "\n",
       "    .dataframe tbody tr th {\n",
       "        vertical-align: top;\n",
       "    }\n",
       "\n",
       "    .dataframe thead th {\n",
       "        text-align: right;\n",
       "    }\n",
       "</style>\n",
       "<table border=\"1\" class=\"dataframe\">\n",
       "  <thead>\n",
       "    <tr style=\"text-align: right;\">\n",
       "      <th></th>\n",
       "      <th>/talker/timer_callback_0/callback_start_timestamp/0</th>\n",
       "      <th>/talker/timer_callback_0/callback_end_timestamp/0</th>\n",
       "      <th>/talker/timer_callback_0/rclcpp_publish_timestamp/0</th>\n",
       "      <th>/talker/timer_callback_0/rcl_publish_timestamp/0</th>\n",
       "      <th>/talker/timer_callback_0/dds_write_timestamp/0</th>\n",
       "      <th>/listener/subscription_callback_0/on_data_available_timestamp/0</th>\n",
       "      <th>/listener/subscription_callback_0/callback_start_timestamp/0</th>\n",
       "      <th>/listener/subscription_callback_0/callback_end_timestamp/0</th>\n",
       "    </tr>\n",
       "  </thead>\n",
       "  <tbody>\n",
       "    <tr>\n",
       "      <th>0</th>\n",
       "      <td>1631078990288672218</td>\n",
       "      <td>1631078990289455570</td>\n",
       "      <td>1631078990289280521</td>\n",
       "      <td>1631078990289285974</td>\n",
       "      <td>1631078990289288278</td>\n",
       "      <td>1631078990289522219</td>\n",
       "      <td>1631078990290029433</td>\n",
       "      <td>1631078990290489184</td>\n",
       "    </tr>\n",
       "    <tr>\n",
       "      <th>1</th>\n",
       "      <td>1631078991288504289</td>\n",
       "      <td>1631078991288833864</td>\n",
       "      <td>1631078991288704199</td>\n",
       "      <td>1631078991288706584</td>\n",
       "      <td>1631078991288708358</td>\n",
       "      <td>1631078991288905821</td>\n",
       "      <td>1631078991289088197</td>\n",
       "      <td>1631078991289245927</td>\n",
       "    </tr>\n",
       "    <tr>\n",
       "      <th>2</th>\n",
       "      <td>1631078992288552728</td>\n",
       "      <td>1631078992288939076</td>\n",
       "      <td>1631078992288808701</td>\n",
       "      <td>1631078992288811360</td>\n",
       "      <td>1631078992288813307</td>\n",
       "      <td>1631078992289011165</td>\n",
       "      <td>1631078992289240824</td>\n",
       "      <td>1631078992289414557</td>\n",
       "    </tr>\n",
       "    <tr>\n",
       "      <th>3</th>\n",
       "      <td>1631078993288516650</td>\n",
       "      <td>1631078993288851544</td>\n",
       "      <td>1631078993288721394</td>\n",
       "      <td>1631078993288723922</td>\n",
       "      <td>1631078993288725659</td>\n",
       "      <td>1631078993288932110</td>\n",
       "      <td>1631078993289141210</td>\n",
       "      <td>1631078993289309262</td>\n",
       "    </tr>\n",
       "    <tr>\n",
       "      <th>4</th>\n",
       "      <td>1631078994288567220</td>\n",
       "      <td>1631078994288948699</td>\n",
       "      <td>1631078994288800056</td>\n",
       "      <td>1631078994288802458</td>\n",
       "      <td>1631078994288804095</td>\n",
       "      <td>1631078994289027475</td>\n",
       "      <td>1631078994289306007</td>\n",
       "      <td>1631078994289483961</td>\n",
       "    </tr>\n",
       "  </tbody>\n",
       "</table>\n",
       "</div>"
      ],
      "text/plain": [
       "   /talker/timer_callback_0/callback_start_timestamp/0  \\\n",
       "0                                1631078990288672218     \n",
       "1                                1631078991288504289     \n",
       "2                                1631078992288552728     \n",
       "3                                1631078993288516650     \n",
       "4                                1631078994288567220     \n",
       "\n",
       "   /talker/timer_callback_0/callback_end_timestamp/0  \\\n",
       "0                                1631078990289455570   \n",
       "1                                1631078991288833864   \n",
       "2                                1631078992288939076   \n",
       "3                                1631078993288851544   \n",
       "4                                1631078994288948699   \n",
       "\n",
       "   /talker/timer_callback_0/rclcpp_publish_timestamp/0  \\\n",
       "0                                1631078990289280521     \n",
       "1                                1631078991288704199     \n",
       "2                                1631078992288808701     \n",
       "3                                1631078993288721394     \n",
       "4                                1631078994288800056     \n",
       "\n",
       "   /talker/timer_callback_0/rcl_publish_timestamp/0  \\\n",
       "0                               1631078990289285974   \n",
       "1                               1631078991288706584   \n",
       "2                               1631078992288811360   \n",
       "3                               1631078993288723922   \n",
       "4                               1631078994288802458   \n",
       "\n",
       "   /talker/timer_callback_0/dds_write_timestamp/0  \\\n",
       "0                             1631078990289288278   \n",
       "1                             1631078991288708358   \n",
       "2                             1631078992288813307   \n",
       "3                             1631078993288725659   \n",
       "4                             1631078994288804095   \n",
       "\n",
       "   /listener/subscription_callback_0/on_data_available_timestamp/0  \\\n",
       "0                                1631078990289522219                 \n",
       "1                                1631078991288905821                 \n",
       "2                                1631078992289011165                 \n",
       "3                                1631078993288932110                 \n",
       "4                                1631078994289027475                 \n",
       "\n",
       "   /listener/subscription_callback_0/callback_start_timestamp/0  \\\n",
       "0                                1631078990290029433              \n",
       "1                                1631078991289088197              \n",
       "2                                1631078992289240824              \n",
       "3                                1631078993289141210              \n",
       "4                                1631078994289306007              \n",
       "\n",
       "   /listener/subscription_callback_0/callback_end_timestamp/0  \n",
       "0                                1631078990290489184           \n",
       "1                                1631078991289245927           \n",
       "2                                1631078992289414557           \n",
       "3                                1631078993289309262           \n",
       "4                                1631078994289483961           "
      ]
     },
     "metadata": {},
     "execution_count": 15
    }
   ],
   "metadata": {}
  },
  {
   "cell_type": "code",
   "execution_count": 16,
   "source": [
    "caret_plot.message_flow(path, granularity='callback')"
   ],
   "outputs": [
    {
     "output_type": "display_data",
     "data": {
      "text/html": [
       "\n",
       "\n",
       "\n",
       "\n",
       "\n",
       "\n",
       "  <div class=\"bk-root\" id=\"2b3ee7d7-886c-416d-8ae4-a37ddc752b22\" data-root-id=\"1003\"></div>\n"
      ]
     },
     "metadata": {}
    },
    {
     "output_type": "display_data",
     "data": {
      "application/javascript": "(function(root) {\n  function embed_document(root) {\n    \n  var docs_json = {\"4dea686f-231f-4d6a-adea-ccf02afc0766\":{\"defs\":[],\"roots\":{\"references\":[{\"attributes\":{\"below\":[{\"id\":\"1012\"}],\"center\":[{\"id\":\"1015\"},{\"id\":\"1019\"}],\"height\":400,\"left\":[{\"id\":\"1016\"}],\"renderers\":[{\"id\":\"1037\"},{\"id\":\"1042\"},{\"id\":\"1047\"},{\"id\":\"1052\"},{\"id\":\"1057\"}],\"title\":{\"id\":\"1063\"},\"toolbar\":{\"id\":\"1027\"},\"width\":1000,\"x_range\":{\"id\":\"1004\"},\"x_scale\":{\"id\":\"1008\"},\"y_range\":{\"id\":\"1006\"},\"y_scale\":{\"id\":\"1010\"}},\"id\":\"1003\",\"subtype\":\"Figure\",\"type\":\"Plot\"},{\"attributes\":{\"line_alpha\":0.1,\"line_color\":\"#20B254\",\"line_width\":1.5,\"x\":{\"field\":\"x\"},\"y\":{\"field\":\"y\"}},\"id\":\"1056\",\"type\":\"Line\"},{\"attributes\":{},\"id\":\"1024\",\"type\":\"ResetTool\"},{\"attributes\":{\"data\":{\"x\":[1631078993288516650,1631078993288851544,1631078993288725659,1631078993288932110,1631078993289141210,1631078993289309262],\"y\":[0,-1,-2,-3,-4,-5]},\"selected\":{\"id\":\"1078\"},\"selection_policy\":{\"id\":\"1077\"}},\"id\":\"1049\",\"type\":\"ColumnDataSource\"},{\"attributes\":{\"overlay\":{\"id\":\"1026\"}},\"id\":\"1022\",\"type\":\"BoxZoomTool\"},{\"attributes\":{\"line_alpha\":0.1,\"line_color\":\"#F05223\",\"line_width\":1.5,\"x\":{\"field\":\"x\"},\"y\":{\"field\":\"y\"}},\"id\":\"1041\",\"type\":\"Line\"},{\"attributes\":{\"source\":{\"id\":\"1044\"}},\"id\":\"1048\",\"type\":\"CDSView\"},{\"attributes\":{\"line_color\":\"#F6A91B\",\"line_width\":1.5,\"x\":{\"field\":\"x\"},\"y\":{\"field\":\"y\"}},\"id\":\"1045\",\"type\":\"Line\"},{\"attributes\":{},\"id\":\"1073\",\"type\":\"UnionRenderers\"},{\"attributes\":{},\"id\":\"1074\",\"type\":\"Selection\"},{\"attributes\":{\"active_multi\":null,\"tools\":[{\"id\":\"1020\"},{\"id\":\"1021\"},{\"id\":\"1022\"},{\"id\":\"1023\"},{\"id\":\"1024\"},{\"id\":\"1025\"},{\"id\":\"1061\"}]},\"id\":\"1027\",\"type\":\"Toolbar\"},{\"attributes\":{},\"id\":\"1068\",\"type\":\"AllLabels\"},{\"attributes\":{\"data\":{\"x\":[1631078991288504289,1631078991288833864,1631078991288708358,1631078991288905821,1631078991289088197,1631078991289245927],\"y\":[0,-1,-2,-3,-4,-5]},\"selected\":{\"id\":\"1074\"},\"selection_policy\":{\"id\":\"1073\"}},\"id\":\"1039\",\"type\":\"ColumnDataSource\"},{\"attributes\":{\"data\":{\"x\":[1631078994288567220,1631078994288948699,1631078994288804095,1631078994289027475,1631078994289306007,1631078994289483961],\"y\":[0,-1,-2,-3,-4,-5]},\"selected\":{\"id\":\"1080\"},\"selection_policy\":{\"id\":\"1079\"}},\"id\":\"1054\",\"type\":\"ColumnDataSource\"},{\"attributes\":{},\"id\":\"1079\",\"type\":\"UnionRenderers\"},{\"attributes\":{},\"id\":\"1065\",\"type\":\"AllLabels\"},{\"attributes\":{\"line_color\":\"#20B254\",\"line_width\":1.5,\"x\":{\"field\":\"x\"},\"y\":{\"field\":\"y\"}},\"id\":\"1055\",\"type\":\"Line\"},{\"attributes\":{},\"id\":\"1069\",\"type\":\"BasicTickFormatter\"},{\"attributes\":{},\"id\":\"1004\",\"type\":\"DataRange1d\"},{\"attributes\":{\"ticks\":[0,-1,-2,-3,-4,-5]},\"id\":\"1059\",\"type\":\"FixedTicker\"},{\"attributes\":{\"line_alpha\":0.1,\"line_color\":\"#F6A91B\",\"line_width\":1.5,\"x\":{\"field\":\"x\"},\"y\":{\"field\":\"y\"}},\"id\":\"1046\",\"type\":\"Line\"},{\"attributes\":{\"line_color\":\"#F05223\",\"line_width\":1.5,\"x\":{\"field\":\"x\"},\"y\":{\"field\":\"y\"}},\"id\":\"1040\",\"type\":\"Line\"},{\"attributes\":{},\"id\":\"1080\",\"type\":\"Selection\"},{\"attributes\":{},\"id\":\"1006\",\"type\":\"DataRange1d\"},{\"attributes\":{},\"id\":\"1023\",\"type\":\"SaveTool\"},{\"attributes\":{\"data_source\":{\"id\":\"1039\"},\"glyph\":{\"id\":\"1040\"},\"hover_glyph\":null,\"muted_glyph\":null,\"nonselection_glyph\":{\"id\":\"1041\"},\"view\":{\"id\":\"1043\"}},\"id\":\"1042\",\"type\":\"GlyphRenderer\"},{\"attributes\":{\"line_alpha\":0.1,\"line_color\":\"#A5CD39\",\"line_width\":1.5,\"x\":{\"field\":\"x\"},\"y\":{\"field\":\"y\"}},\"id\":\"1051\",\"type\":\"Line\"},{\"attributes\":{\"source\":{\"id\":\"1039\"}},\"id\":\"1043\",\"type\":\"CDSView\"},{\"attributes\":{\"data\":{\"x\":[1631078990288672218,1631078990289455570,1631078990289288278,1631078990289522219,1631078990290029433,1631078990290489184],\"y\":[0,-1,-2,-3,-4,-5]},\"selected\":{\"id\":\"1072\"},\"selection_policy\":{\"id\":\"1071\"}},\"id\":\"1034\",\"type\":\"ColumnDataSource\"},{\"attributes\":{\"source\":{\"id\":\"1049\"}},\"id\":\"1053\",\"type\":\"CDSView\"},{\"attributes\":{},\"id\":\"1021\",\"type\":\"WheelZoomTool\"},{\"attributes\":{\"source\":{\"id\":\"1034\"}},\"id\":\"1038\",\"type\":\"CDSView\"},{\"attributes\":{},\"id\":\"1075\",\"type\":\"UnionRenderers\"},{\"attributes\":{\"axis\":{\"id\":\"1016\"},\"dimension\":1,\"ticker\":null},\"id\":\"1019\",\"type\":\"Grid\"},{\"attributes\":{\"line_color\":\"#A5CD39\",\"line_width\":1.5,\"x\":{\"field\":\"x\"},\"y\":{\"field\":\"y\"}},\"id\":\"1050\",\"type\":\"Line\"},{\"attributes\":{},\"id\":\"1076\",\"type\":\"Selection\"},{\"attributes\":{},\"id\":\"1066\",\"type\":\"BasicTickFormatter\"},{\"attributes\":{\"data_source\":{\"id\":\"1034\"},\"glyph\":{\"id\":\"1035\"},\"hover_glyph\":null,\"muted_glyph\":null,\"nonselection_glyph\":{\"id\":\"1036\"},\"view\":{\"id\":\"1038\"}},\"id\":\"1037\",\"type\":\"GlyphRenderer\"},{\"attributes\":{\"line_alpha\":0.4},\"id\":\"1061\",\"type\":\"CrosshairTool\"},{\"attributes\":{},\"id\":\"1013\",\"type\":\"BasicTicker\"},{\"attributes\":{},\"id\":\"1025\",\"type\":\"HelpTool\"},{\"attributes\":{},\"id\":\"1008\",\"type\":\"LinearScale\"},{\"attributes\":{},\"id\":\"1063\",\"type\":\"Title\"},{\"attributes\":{},\"id\":\"1071\",\"type\":\"UnionRenderers\"},{\"attributes\":{\"data_source\":{\"id\":\"1049\"},\"glyph\":{\"id\":\"1050\"},\"hover_glyph\":null,\"muted_glyph\":null,\"nonselection_glyph\":{\"id\":\"1051\"},\"view\":{\"id\":\"1053\"}},\"id\":\"1052\",\"type\":\"GlyphRenderer\"},{\"attributes\":{\"axis\":{\"id\":\"1012\"},\"ticker\":null},\"id\":\"1015\",\"type\":\"Grid\"},{\"attributes\":{},\"id\":\"1072\",\"type\":\"Selection\"},{\"attributes\":{},\"id\":\"1077\",\"type\":\"UnionRenderers\"},{\"attributes\":{\"formatter\":{\"id\":\"1066\"},\"major_label_overrides\":{\"-1\":\"/talker/timer_callback_0\",\"-2\":\"/chatter/dds_write_timestamp\",\"-3\":\"/chatter/on_data_available_timestamp\",\"-4\":\"/listener/subscription_callback_0\",\"-5\":\"/listener/subscription_callback_0\",\"0\":\"/talker/timer_callback_0\"},\"major_label_policy\":{\"id\":\"1065\"},\"ticker\":{\"id\":\"1059\"}},\"id\":\"1016\",\"type\":\"LinearAxis\"},{\"attributes\":{\"data\":{\"x\":[1631078992288552728,1631078992288939076,1631078992288813307,1631078992289011165,1631078992289240824,1631078992289414557],\"y\":[0,-1,-2,-3,-4,-5]},\"selected\":{\"id\":\"1076\"},\"selection_policy\":{\"id\":\"1075\"}},\"id\":\"1044\",\"type\":\"ColumnDataSource\"},{\"attributes\":{},\"id\":\"1078\",\"type\":\"Selection\"},{\"attributes\":{},\"id\":\"1020\",\"type\":\"PanTool\"},{\"attributes\":{\"source\":{\"id\":\"1054\"}},\"id\":\"1058\",\"type\":\"CDSView\"},{\"attributes\":{\"bottom_units\":\"screen\",\"fill_alpha\":0.5,\"fill_color\":\"lightgrey\",\"left_units\":\"screen\",\"level\":\"overlay\",\"line_alpha\":1.0,\"line_color\":\"black\",\"line_dash\":[4,4],\"line_width\":2,\"right_units\":\"screen\",\"syncable\":false,\"top_units\":\"screen\"},\"id\":\"1026\",\"type\":\"BoxAnnotation\"},{\"attributes\":{\"data_source\":{\"id\":\"1044\"},\"glyph\":{\"id\":\"1045\"},\"hover_glyph\":null,\"muted_glyph\":null,\"nonselection_glyph\":{\"id\":\"1046\"},\"view\":{\"id\":\"1048\"}},\"id\":\"1047\",\"type\":\"GlyphRenderer\"},{\"attributes\":{\"formatter\":{\"id\":\"1069\"},\"major_label_policy\":{\"id\":\"1068\"},\"ticker\":{\"id\":\"1013\"}},\"id\":\"1012\",\"type\":\"LinearAxis\"},{\"attributes\":{\"line_alpha\":0.1,\"line_color\":\"#EC1557\",\"line_width\":1.5,\"x\":{\"field\":\"x\"},\"y\":{\"field\":\"y\"}},\"id\":\"1036\",\"type\":\"Line\"},{\"attributes\":{},\"id\":\"1010\",\"type\":\"LinearScale\"},{\"attributes\":{\"line_color\":\"#EC1557\",\"line_width\":1.5,\"x\":{\"field\":\"x\"},\"y\":{\"field\":\"y\"}},\"id\":\"1035\",\"type\":\"Line\"},{\"attributes\":{\"data_source\":{\"id\":\"1054\"},\"glyph\":{\"id\":\"1055\"},\"hover_glyph\":null,\"muted_glyph\":null,\"nonselection_glyph\":{\"id\":\"1056\"},\"view\":{\"id\":\"1058\"}},\"id\":\"1057\",\"type\":\"GlyphRenderer\"}],\"root_ids\":[\"1003\"]},\"title\":\"Bokeh Application\",\"version\":\"2.3.3\"}};\n  var render_items = [{\"docid\":\"4dea686f-231f-4d6a-adea-ccf02afc0766\",\"root_ids\":[\"1003\"],\"roots\":{\"1003\":\"2b3ee7d7-886c-416d-8ae4-a37ddc752b22\"}}];\n  root.Bokeh.embed.embed_items_notebook(docs_json, render_items);\n\n  }\n  if (root.Bokeh !== undefined) {\n    embed_document(root);\n  } else {\n    var attempts = 0;\n    var timer = setInterval(function(root) {\n      if (root.Bokeh !== undefined) {\n        clearInterval(timer);\n        embed_document(root);\n      } else {\n        attempts++;\n        if (attempts > 100) {\n          clearInterval(timer);\n          console.log(\"Bokeh: ERROR: Unable to run BokehJS code because BokehJS library is missing\");\n        }\n      }\n    }, 10, root)\n  }\n})(window);",
      "application/vnd.bokehjs_exec.v0+json": ""
     },
     "metadata": {
      "application/vnd.bokehjs_exec.v0+json": {
       "id": "1003"
      }
     }
    }
   ],
   "metadata": {}
  },
  {
   "cell_type": "code",
   "execution_count": 17,
   "source": [
    "caret_plot.path_latency(path, granularity='callback')"
   ],
   "outputs": [
    {
     "output_type": "execute_result",
     "data": {
      "image/svg+xml": "<?xml version=\"1.0\" encoding=\"UTF-8\" standalone=\"no\"?>\n<!DOCTYPE svg PUBLIC \"-//W3C//DTD SVG 1.1//EN\"\n \"http://www.w3.org/Graphics/SVG/1.1/DTD/svg11.dtd\">\n<!-- Generated by graphviz version 2.43.0 (0)\n -->\n<!-- Title: %3 Pages: 1 -->\n<svg width=\"198pt\" height=\"270pt\"\n viewBox=\"0.00 0.00 197.50 270.00\" xmlns=\"http://www.w3.org/2000/svg\" xmlns:xlink=\"http://www.w3.org/1999/xlink\">\n<g id=\"graph0\" class=\"graph\" transform=\"scale(1 1) rotate(0) translate(4 266)\">\n<title>%3</title>\n<polygon fill=\"white\" stroke=\"transparent\" points=\"-4,4 -4,-266 193.5,-266 193.5,4 -4,4\"/>\n<!-- /talker/timer_callback_0 -->\n<g id=\"node1\" class=\"node\">\n<title>/talker/timer_callback_0</title>\n<polygon fill=\"none\" stroke=\"black\" points=\"160.5,-262 24.5,-262 24.5,-179 160.5,-179 160.5,-262\"/>\n<text text-anchor=\"middle\" x=\"92.5\" y=\"-246.8\" font-family=\"Times,serif\" font-size=\"14.00\">/talker</text>\n<text text-anchor=\"middle\" x=\"92.5\" y=\"-231.8\" font-family=\"Times,serif\" font-size=\"14.00\">timer_callback_0</text>\n<text text-anchor=\"middle\" x=\"92.5\" y=\"-216.8\" font-family=\"Times,serif\" font-size=\"14.00\">min: 0.33 ms</text>\n<text text-anchor=\"middle\" x=\"92.5\" y=\"-201.8\" font-family=\"Times,serif\" font-size=\"14.00\">avg: 0.44 ms</text>\n<text text-anchor=\"middle\" x=\"92.5\" y=\"-186.8\" font-family=\"Times,serif\" font-size=\"14.00\">max: 0.78 ms</text>\n</g>\n<!-- /listener/subscription_callback_0 -->\n<g id=\"node2\" class=\"node\">\n<title>/listener/subscription_callback_0</title>\n<polygon fill=\"none\" stroke=\"black\" points=\"185,-83 0,-83 0,0 185,0 185,-83\"/>\n<text text-anchor=\"middle\" x=\"92.5\" y=\"-67.8\" font-family=\"Times,serif\" font-size=\"14.00\">/listener</text>\n<text text-anchor=\"middle\" x=\"92.5\" y=\"-52.8\" font-family=\"Times,serif\" font-size=\"14.00\">subscription_callback_0</text>\n<text text-anchor=\"middle\" x=\"92.5\" y=\"-37.8\" font-family=\"Times,serif\" font-size=\"14.00\">min: 0.16 ms</text>\n<text text-anchor=\"middle\" x=\"92.5\" y=\"-22.8\" font-family=\"Times,serif\" font-size=\"14.00\">avg: 0.23 ms</text>\n<text text-anchor=\"middle\" x=\"92.5\" y=\"-7.8\" font-family=\"Times,serif\" font-size=\"14.00\">max: 0.46 ms</text>\n</g>\n<!-- /talker/timer_callback_0&#45;&gt;/listener/subscription_callback_0 -->\n<g id=\"edge1\" class=\"edge\">\n<title>/talker/timer_callback_0&#45;&gt;/listener/subscription_callback_0</title>\n<path fill=\"none\" stroke=\"black\" d=\"M92.5,-178.89C92.5,-153.46 92.5,-120.48 92.5,-93.32\"/>\n<polygon fill=\"black\" stroke=\"black\" points=\"96,-93.22 92.5,-83.22 89,-93.22 96,-93.22\"/>\n<text text-anchor=\"middle\" x=\"141\" y=\"-149.8\" font-family=\"Times,serif\" font-size=\"14.00\">/chatter</text>\n<text text-anchor=\"middle\" x=\"141\" y=\"-134.8\" font-family=\"Times,serif\" font-size=\"14.00\">min: 0.38 ms</text>\n<text text-anchor=\"middle\" x=\"141\" y=\"-119.8\" font-family=\"Times,serif\" font-size=\"14.00\">avg: 0.50 ms</text>\n<text text-anchor=\"middle\" x=\"141\" y=\"-104.8\" font-family=\"Times,serif\" font-size=\"14.00\">max: 0.75 ms</text>\n</g>\n</g>\n</svg>\n",
      "text/plain": [
       "<graphviz.dot.Digraph at 0x7fe57ac5ce20>"
      ]
     },
     "metadata": {},
     "execution_count": 17
    }
   ],
   "metadata": {}
  },
  {
   "cell_type": "code",
   "execution_count": null,
   "source": [],
   "outputs": [],
   "metadata": {}
  }
 ],
 "metadata": {
  "orig_nbformat": 4,
  "language_info": {
   "name": "python",
   "version": "3.8.10",
   "mimetype": "text/x-python",
   "codemirror_mode": {
    "name": "ipython",
    "version": 3
   },
   "pygments_lexer": "ipython3",
   "nbconvert_exporter": "python",
   "file_extension": ".py"
  },
  "kernelspec": {
   "name": "python3",
   "display_name": "Python 3.8.10 64-bit"
  },
  "interpreter": {
   "hash": "e7370f93d1d0cde622a1f8e1c04877d8463912d04d973331ad4851f04de6915a"
  }
 },
 "nbformat": 4,
 "nbformat_minor": 2
}